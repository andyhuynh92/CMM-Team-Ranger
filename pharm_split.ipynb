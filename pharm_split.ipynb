{
 "cells": [
  {
   "cell_type": "code",
   "execution_count": 12,
   "id": "28fda22a",
   "metadata": {},
   "outputs": [],
   "source": [
    "import pandas as pd\n",
    "import numpy as np\n",
    "\n",
    "\n",
    "\n"
   ]
  },
  {
   "cell_type": "code",
   "execution_count": 13,
   "id": "a9ed74dc",
   "metadata": {},
   "outputs": [
    {
     "name": "stdout",
     "output_type": "stream",
     "text": [
      "13910244\n"
     ]
    }
   ],
   "source": [
    "pharm = pd.read_csv(\"pharmacy_tx.csv\")#Import the original dataset\n",
    "\n",
    "print(len(pharm))#Check the size of the dataset"
   ]
  },
  {
   "cell_type": "code",
   "execution_count": 14,
   "id": "946b631b",
   "metadata": {},
   "outputs": [
    {
     "data": {
      "text/html": [
       "<div>\n",
       "<style scoped>\n",
       "    .dataframe tbody tr th:only-of-type {\n",
       "        vertical-align: middle;\n",
       "    }\n",
       "\n",
       "    .dataframe tbody tr th {\n",
       "        vertical-align: top;\n",
       "    }\n",
       "\n",
       "    .dataframe thead th {\n",
       "        text-align: right;\n",
       "    }\n",
       "</style>\n",
       "<table border=\"1\" class=\"dataframe\">\n",
       "  <thead>\n",
       "    <tr style=\"text-align: right;\">\n",
       "      <th></th>\n",
       "      <th>tx_date</th>\n",
       "      <th>pharmacy</th>\n",
       "      <th>diagnosis</th>\n",
       "      <th>drug</th>\n",
       "      <th>bin</th>\n",
       "      <th>pcn</th>\n",
       "      <th>group</th>\n",
       "      <th>rejected</th>\n",
       "      <th>patient_pay</th>\n",
       "    </tr>\n",
       "  </thead>\n",
       "  <tbody>\n",
       "    <tr>\n",
       "      <th>0</th>\n",
       "      <td>2022-01-02</td>\n",
       "      <td>Pharmacy #6</td>\n",
       "      <td>G99.93</td>\n",
       "      <td>branded tanoclolol</td>\n",
       "      <td>725700</td>\n",
       "      <td>1UQC</td>\n",
       "      <td>NaN</td>\n",
       "      <td>False</td>\n",
       "      <td>13.39</td>\n",
       "    </tr>\n",
       "    <tr>\n",
       "      <th>1</th>\n",
       "      <td>2022-01-02</td>\n",
       "      <td>Pharmacy #42</td>\n",
       "      <td>U60.52</td>\n",
       "      <td>branded oxasoted</td>\n",
       "      <td>664344</td>\n",
       "      <td>NaN</td>\n",
       "      <td>52H8KH0F83K</td>\n",
       "      <td>False</td>\n",
       "      <td>7.02</td>\n",
       "    </tr>\n",
       "    <tr>\n",
       "      <th>2</th>\n",
       "      <td>2022-01-02</td>\n",
       "      <td>Pharmacy #37</td>\n",
       "      <td>Q85.91</td>\n",
       "      <td>branded cupitelol</td>\n",
       "      <td>725700</td>\n",
       "      <td>1UQC</td>\n",
       "      <td>NaN</td>\n",
       "      <td>False</td>\n",
       "      <td>13.39</td>\n",
       "    </tr>\n",
       "    <tr>\n",
       "      <th>3</th>\n",
       "      <td>2022-01-02</td>\n",
       "      <td>Pharmacy #30</td>\n",
       "      <td>U60.52</td>\n",
       "      <td>generic oxasoted</td>\n",
       "      <td>571569</td>\n",
       "      <td>KB38N</td>\n",
       "      <td>6BYJBW</td>\n",
       "      <td>False</td>\n",
       "      <td>10.84</td>\n",
       "    </tr>\n",
       "    <tr>\n",
       "      <th>4</th>\n",
       "      <td>2022-01-02</td>\n",
       "      <td>Pharmacy #18</td>\n",
       "      <td>N55.01</td>\n",
       "      <td>branded mamate</td>\n",
       "      <td>664344</td>\n",
       "      <td>NaN</td>\n",
       "      <td>ZX2QUWR</td>\n",
       "      <td>False</td>\n",
       "      <td>47.00</td>\n",
       "    </tr>\n",
       "  </tbody>\n",
       "</table>\n",
       "</div>"
      ],
      "text/plain": [
       "      tx_date      pharmacy diagnosis                drug     bin    pcn  \\\n",
       "0  2022-01-02   Pharmacy #6    G99.93  branded tanoclolol  725700   1UQC   \n",
       "1  2022-01-02  Pharmacy #42    U60.52    branded oxasoted  664344    NaN   \n",
       "2  2022-01-02  Pharmacy #37    Q85.91   branded cupitelol  725700   1UQC   \n",
       "3  2022-01-02  Pharmacy #30    U60.52    generic oxasoted  571569  KB38N   \n",
       "4  2022-01-02  Pharmacy #18    N55.01      branded mamate  664344    NaN   \n",
       "\n",
       "         group  rejected  patient_pay  \n",
       "0          NaN     False        13.39  \n",
       "1  52H8KH0F83K     False         7.02  \n",
       "2          NaN     False        13.39  \n",
       "3       6BYJBW     False        10.84  \n",
       "4      ZX2QUWR     False        47.00  "
      ]
     },
     "execution_count": 14,
     "metadata": {},
     "output_type": "execute_result"
    }
   ],
   "source": [
    "pharm.head()#see original layout"
   ]
  },
  {
   "cell_type": "code",
   "execution_count": 15,
   "id": "e7de893e",
   "metadata": {},
   "outputs": [],
   "source": [
    "pharm[['type', 'drug']]=pharm['drug'].str.split(' ', expand = True)#split the drug name from the branded/generic designation"
   ]
  },
  {
   "cell_type": "code",
   "execution_count": 16,
   "id": "edb8e214",
   "metadata": {},
   "outputs": [
    {
     "data": {
      "text/html": [
       "<div>\n",
       "<style scoped>\n",
       "    .dataframe tbody tr th:only-of-type {\n",
       "        vertical-align: middle;\n",
       "    }\n",
       "\n",
       "    .dataframe tbody tr th {\n",
       "        vertical-align: top;\n",
       "    }\n",
       "\n",
       "    .dataframe thead th {\n",
       "        text-align: right;\n",
       "    }\n",
       "</style>\n",
       "<table border=\"1\" class=\"dataframe\">\n",
       "  <thead>\n",
       "    <tr style=\"text-align: right;\">\n",
       "      <th></th>\n",
       "      <th>tx_date</th>\n",
       "      <th>pharmacy</th>\n",
       "      <th>diagnosis</th>\n",
       "      <th>drug</th>\n",
       "      <th>bin</th>\n",
       "      <th>pcn</th>\n",
       "      <th>group</th>\n",
       "      <th>rejected</th>\n",
       "      <th>patient_pay</th>\n",
       "      <th>type</th>\n",
       "    </tr>\n",
       "  </thead>\n",
       "  <tbody>\n",
       "    <tr>\n",
       "      <th>0</th>\n",
       "      <td>2022-01-02</td>\n",
       "      <td>Pharmacy #6</td>\n",
       "      <td>G99.93</td>\n",
       "      <td>tanoclolol</td>\n",
       "      <td>725700</td>\n",
       "      <td>1UQC</td>\n",
       "      <td>NaN</td>\n",
       "      <td>False</td>\n",
       "      <td>13.39</td>\n",
       "      <td>branded</td>\n",
       "    </tr>\n",
       "    <tr>\n",
       "      <th>1</th>\n",
       "      <td>2022-01-02</td>\n",
       "      <td>Pharmacy #42</td>\n",
       "      <td>U60.52</td>\n",
       "      <td>oxasoted</td>\n",
       "      <td>664344</td>\n",
       "      <td>NaN</td>\n",
       "      <td>52H8KH0F83K</td>\n",
       "      <td>False</td>\n",
       "      <td>7.02</td>\n",
       "      <td>branded</td>\n",
       "    </tr>\n",
       "    <tr>\n",
       "      <th>2</th>\n",
       "      <td>2022-01-02</td>\n",
       "      <td>Pharmacy #37</td>\n",
       "      <td>Q85.91</td>\n",
       "      <td>cupitelol</td>\n",
       "      <td>725700</td>\n",
       "      <td>1UQC</td>\n",
       "      <td>NaN</td>\n",
       "      <td>False</td>\n",
       "      <td>13.39</td>\n",
       "      <td>branded</td>\n",
       "    </tr>\n",
       "    <tr>\n",
       "      <th>3</th>\n",
       "      <td>2022-01-02</td>\n",
       "      <td>Pharmacy #30</td>\n",
       "      <td>U60.52</td>\n",
       "      <td>oxasoted</td>\n",
       "      <td>571569</td>\n",
       "      <td>KB38N</td>\n",
       "      <td>6BYJBW</td>\n",
       "      <td>False</td>\n",
       "      <td>10.84</td>\n",
       "      <td>generic</td>\n",
       "    </tr>\n",
       "    <tr>\n",
       "      <th>4</th>\n",
       "      <td>2022-01-02</td>\n",
       "      <td>Pharmacy #18</td>\n",
       "      <td>N55.01</td>\n",
       "      <td>mamate</td>\n",
       "      <td>664344</td>\n",
       "      <td>NaN</td>\n",
       "      <td>ZX2QUWR</td>\n",
       "      <td>False</td>\n",
       "      <td>47.00</td>\n",
       "      <td>branded</td>\n",
       "    </tr>\n",
       "  </tbody>\n",
       "</table>\n",
       "</div>"
      ],
      "text/plain": [
       "      tx_date      pharmacy diagnosis        drug     bin    pcn        group  \\\n",
       "0  2022-01-02   Pharmacy #6    G99.93  tanoclolol  725700   1UQC          NaN   \n",
       "1  2022-01-02  Pharmacy #42    U60.52    oxasoted  664344    NaN  52H8KH0F83K   \n",
       "2  2022-01-02  Pharmacy #37    Q85.91   cupitelol  725700   1UQC          NaN   \n",
       "3  2022-01-02  Pharmacy #30    U60.52    oxasoted  571569  KB38N       6BYJBW   \n",
       "4  2022-01-02  Pharmacy #18    N55.01      mamate  664344    NaN      ZX2QUWR   \n",
       "\n",
       "   rejected  patient_pay     type  \n",
       "0     False        13.39  branded  \n",
       "1     False         7.02  branded  \n",
       "2     False        13.39  branded  \n",
       "3     False        10.84  generic  \n",
       "4     False        47.00  branded  "
      ]
     },
     "execution_count": 16,
     "metadata": {},
     "output_type": "execute_result"
    }
   ],
   "source": [
    "pharm.head()#confirm layout change"
   ]
  },
  {
   "cell_type": "code",
   "execution_count": 17,
   "id": "50cbcbe7",
   "metadata": {},
   "outputs": [
    {
     "name": "stdout",
     "output_type": "stream",
     "text": [
      "13910244\n"
     ]
    }
   ],
   "source": [
    "print(len(pharm))#confirm the size of the dataset is unaffected by the split \n"
   ]
  },
  {
   "cell_type": "code",
   "execution_count": 11,
   "id": "c1d71048",
   "metadata": {},
   "outputs": [],
   "source": [
    "pharm.to_csv(\"pharm.csv\")#export dataset to new csv file"
   ]
  },
  {
   "cell_type": "code",
   "execution_count": null,
   "id": "7ca96ae6",
   "metadata": {},
   "outputs": [],
   "source": []
  }
 ],
 "metadata": {
  "kernelspec": {
   "display_name": "Python 3 (ipykernel)",
   "language": "python",
   "name": "python3"
  },
  "language_info": {
   "codemirror_mode": {
    "name": "ipython",
    "version": 3
   },
   "file_extension": ".py",
   "mimetype": "text/x-python",
   "name": "python",
   "nbconvert_exporter": "python",
   "pygments_lexer": "ipython3",
   "version": "3.9.7"
  }
 },
 "nbformat": 4,
 "nbformat_minor": 5
}
